{
 "cells": [
  {
   "cell_type": "markdown",
   "metadata": {},
   "source": [
    "\n",
    "<img src=\"http://biopython.org/DIST/docs/tutorial/images/biopython_logo.svg\" width=500 height=500 />"
   ]
  },
  {
   "cell_type": "markdown",
   "metadata": {},
   "source": [
    "## Overview"
   ]
  },
  {
   "cell_type": "markdown",
   "metadata": {},
   "source": [
    "“Basically, we just like to program in Python and want to make it as easy as possible to use Python for bioinformatics by creating high-quality, reusable modules and scripts.” \n",
    "(Biopython documentation)\n"
   ]
  },
  {
   "cell_type": "markdown",
   "metadata": {},
   "source": [
    "- Parsers for many bioinformatics file formats\n",
    "    - **PDB**\n",
    "    - Fasta\n",
    "    - BLAST\n",
    "    - ClustalW\n",
    "    - GenBank\n",
    "- Easy access to many online services\n",
    "    - NCBI\n",
    "    - Expasy\n",
    "- Interface to other not-so-common used programs\n",
    "    - ClustalW\n",
    "    - DSSP\n",
    "    - MSMS"
   ]
  },
  {
   "cell_type": "markdown",
   "metadata": {},
   "source": [
    "## Installation"
   ]
  },
  {
   "cell_type": "markdown",
   "metadata": {},
   "source": [
    "Not covered here today, but you can access the biopython [github](https://github.com/biopython/biopython) or [documentation](https://biopython.org/wiki/Documentation) and follow the instructions there.\n",
    "\n",
    "Don't worry. It should be as simple as running one of the two commands below:\n",
    "\n",
    "***pip install biopython***\n",
    "\n",
    " \n",
    "\n",
    "***conda install biopython***"
   ]
  },
  {
   "cell_type": "markdown",
   "metadata": {},
   "source": [
    "### Loading libraries"
   ]
  },
  {
   "cell_type": "markdown",
   "metadata": {},
   "source": [
    "- ***PDBParser***: module to parse pdb files\n",
    "- ***PDBList***: module to help accessing PDB structures (locally or directly from the PDB)\n",
    "- ***NeighborSearch***: methods for searching the 3D space\n",
    "- ***Selection***: helps with selecting specific data structures"
   ]
  },
  {
   "cell_type": "code",
   "execution_count": null,
   "metadata": {},
   "outputs": [],
   "source": [
    "from Bio.PDB import PDBParser, PDBList, NeighborSearch, Selection\n",
    "\n",
    "import warnings\n",
    "warnings.filterwarnings('ignore') # Ignoring warning messages"
   ]
  },
  {
   "cell_type": "markdown",
   "metadata": {},
   "source": [
    "### Define PDB code and output directory"
   ]
  },
  {
   "cell_type": "code",
   "execution_count": null,
   "metadata": {},
   "outputs": [],
   "source": [
    "pdb_code = \"1CSE\"\n",
    "output_dir = '.'"
   ]
  },
  {
   "cell_type": "markdown",
   "metadata": {},
   "source": [
    "### Using Biopython to retrieve protein structure from the PDB"
   ]
  },
  {
   "cell_type": "code",
   "execution_count": null,
   "metadata": {},
   "outputs": [],
   "source": [
    "pdbl = PDBList()\n",
    "pdb_file = pdbl.retrieve_pdb_file(pdb_code=pdb_code, file_format='pdb', pdir=output_dir)"
   ]
  },
  {
   "cell_type": "markdown",
   "metadata": {},
   "source": [
    "### Parsing structure to a Biopython object"
   ]
  },
  {
   "cell_type": "code",
   "execution_count": null,
   "metadata": {},
   "outputs": [],
   "source": [
    "parser = PDBParser()\n",
    "structure = parser.get_structure(pdb_code,pdb_file)"
   ]
  },
  {
   "cell_type": "markdown",
   "metadata": {},
   "source": [
    "### Printing header information"
   ]
  },
  {
   "cell_type": "code",
   "execution_count": null,
   "metadata": {},
   "outputs": [],
   "source": [
    "for key,value in structure.header.items():\n",
    "    print(\"{}:\\t{}\\n\".format(key,value))"
   ]
  },
  {
   "cell_type": "markdown",
   "metadata": {},
   "source": [
    "### Model, Chain, Residues and Atoms"
   ]
  },
  {
   "cell_type": "code",
   "execution_count": null,
   "metadata": {},
   "outputs": [],
   "source": [
    "model = structure[0]\n",
    "chains = list(model.get_chains())\n",
    "print(chains)"
   ]
  },
  {
   "cell_type": "code",
   "execution_count": null,
   "metadata": {},
   "outputs": [],
   "source": [
    "chain_E = chains[0]\n",
    "chain_I = chains[1]"
   ]
  },
  {
   "cell_type": "code",
   "execution_count": null,
   "metadata": {},
   "outputs": [],
   "source": [
    "residues_chain_E = list(chain_E.get_residues())"
   ]
  },
  {
   "cell_type": "code",
   "execution_count": null,
   "metadata": {},
   "outputs": [],
   "source": [
    "residues_chain_I = list(chain_I.get_residues())"
   ]
  },
  {
   "cell_type": "code",
   "execution_count": null,
   "metadata": {},
   "outputs": [],
   "source": [
    "residue1 = residues_chain_E[1]\n",
    "print(residue1.resname)"
   ]
  },
  {
   "cell_type": "code",
   "execution_count": null,
   "metadata": {},
   "outputs": [],
   "source": [
    "atoms_residue = list(residue1.get_atoms())\n",
    "print(atoms_residue)\n",
    "atoms_residue[0].get_coord()"
   ]
  },
  {
   "cell_type": "markdown",
   "metadata": {},
   "source": [
    "Methods for the **Residue** object"
   ]
  },
  {
   "cell_type": "code",
   "execution_count": null,
   "metadata": {},
   "outputs": [],
   "source": [
    "residue1.get_resname() "
   ]
  },
  {
   "cell_type": "code",
   "execution_count": null,
   "metadata": {},
   "outputs": [],
   "source": [
    "residue1.get_id() # (Hetero-field, sequence_identifier, insertion_code)"
   ]
  },
  {
   "cell_type": "code",
   "execution_count": null,
   "metadata": {},
   "outputs": [],
   "source": [
    "list(residue1.get_atoms())"
   ]
  },
  {
   "cell_type": "markdown",
   "metadata": {},
   "source": [
    "Accessing specific atoms"
   ]
  },
  {
   "cell_type": "code",
   "execution_count": null,
   "metadata": {},
   "outputs": [],
   "source": [
    "print(residue1['C'].get_coord())\n",
    "print(residue1['CA'].get_coord())"
   ]
  },
  {
   "cell_type": "code",
   "execution_count": null,
   "metadata": {},
   "outputs": [],
   "source": [
    "residue2 = residues_chain_E[10]\n",
    "print(residue2['C'].get_coord())\n",
    "print(residue2['CA'].get_coord())"
   ]
  },
  {
   "cell_type": "markdown",
   "metadata": {},
   "source": [
    "Quickly calculating distance between two atoms"
   ]
  },
  {
   "cell_type": "code",
   "execution_count": null,
   "metadata": {},
   "outputs": [],
   "source": [
    "print(residue1['CA']-residue2['CA'])"
   ]
  },
  {
   "cell_type": "markdown",
   "metadata": {},
   "source": [
    "Methods for  **Atom** object"
   ]
  },
  {
   "cell_type": "code",
   "execution_count": null,
   "metadata": {},
   "outputs": [],
   "source": [
    "a = residue1['CA']"
   ]
  },
  {
   "cell_type": "code",
   "execution_count": null,
   "metadata": {},
   "outputs": [],
   "source": [
    "a.get_name() # atom name (spaces stripped, e.g. \"CA\")"
   ]
  },
  {
   "cell_type": "code",
   "execution_count": null,
   "metadata": {},
   "outputs": [],
   "source": [
    "a.get_id() # id (equals atom name)"
   ]
  },
  {
   "cell_type": "code",
   "execution_count": null,
   "metadata": {},
   "outputs": [],
   "source": [
    "a.get_coord() # atomic coordinates"
   ]
  },
  {
   "cell_type": "code",
   "execution_count": null,
   "metadata": {},
   "outputs": [],
   "source": [
    "a.get_bfactor() # isotropic B factor"
   ]
  },
  {
   "cell_type": "code",
   "execution_count": null,
   "metadata": {},
   "outputs": [],
   "source": [
    "a.get_occupancy() # occupancy"
   ]
  },
  {
   "cell_type": "code",
   "execution_count": null,
   "metadata": {},
   "outputs": [],
   "source": [
    "a.get_altloc() # alternative location specifier"
   ]
  },
  {
   "cell_type": "code",
   "execution_count": null,
   "metadata": {},
   "outputs": [],
   "source": [
    "a.get_fullname() # atom name (with spaces, e.g. \".CA.\")"
   ]
  },
  {
   "cell_type": "markdown",
   "metadata": {},
   "source": [
    "### Selecting interface residues\n",
    "#### Here we will use the definition of an interface residues as all residues at maximum 5A away from the other protein chain"
   ]
  },
  {
   "cell_type": "code",
   "execution_count": null,
   "metadata": {},
   "outputs": [],
   "source": [
    "parser = PDBParser()\n",
    "structure = parser.get_structure('myPDB',pdb_file)\n",
    "print(structure)\n",
    "model = structure[0]\n",
    "chains = list(model.get_chains())\n",
    "print(chains)"
   ]
  },
  {
   "cell_type": "code",
   "execution_count": null,
   "metadata": {},
   "outputs": [],
   "source": [
    "chain1 = chains[0]\n",
    "chain2 = chains[1]"
   ]
  },
  {
   "cell_type": "code",
   "execution_count": null,
   "metadata": {},
   "outputs": [],
   "source": [
    "residues_interface_chain1 = set() # variable to store list of interface residues for chain1\n",
    "residues_interface_chain2 = set() # variable to store list of interface residues for chain2\n",
    "THRESHOLD_DISTANCE = 5.0 # Defining threshold distance"
   ]
  },
  {
   "cell_type": "code",
   "execution_count": null,
   "metadata": {},
   "outputs": [],
   "source": [
    "atoms_list = Selection.unfold_entities(chain2,'A') # Selecting all atoms from chain2\n",
    "ns = NeighborSearch(atoms_list) # Defining search space with the selected atoms\n",
    "\n",
    "for atom in chain1.get_atoms(): # For each atom in chain1\n",
    "    center = atom.get_coord() # define it as a center point\n",
    "    neighbors = ns.search(center,THRESHOLD_DISTANCE,level='R') # search for any residue within 5A or less from the center\n",
    "    \n",
    "    if len(neighbors) != 0: # if the search return anything\n",
    "        residues_interface_chain1.update(neighbors) # add it to the list of interface residues for chain1"
   ]
  },
  {
   "cell_type": "code",
   "execution_count": null,
   "metadata": {},
   "outputs": [],
   "source": [
    "residues_interface_chain1"
   ]
  },
  {
   "cell_type": "code",
   "execution_count": null,
   "metadata": {},
   "outputs": [],
   "source": [
    "atoms_list = Selection.unfold_entities(chain1,'A') # Selecting all atoms from chain1\n",
    "ns = NeighborSearch(atoms_list) # Defining search space with the selected atoms\n",
    "\n",
    "for atom in chain2.get_atoms(): # For each atom in chain2\n",
    "    center = atom.get_coord() # define it as a center point\n",
    "    neighbors = ns.search(center,THRESHOLD_DISTANCE,level='R') # search for any residue within 5A or less from the center\n",
    "    \n",
    "    if len(neighbors) != 0: # if the search return anything\n",
    "        residues_interface_chain2.update(neighbors) # add it to the list of interface residues for chain1"
   ]
  },
  {
   "cell_type": "code",
   "execution_count": null,
   "metadata": {},
   "outputs": [],
   "source": [
    "residues_interface_chain2"
   ]
  },
  {
   "cell_type": "markdown",
   "metadata": {},
   "source": [
    "### Create selection for visualisation with NGLviewer"
   ]
  },
  {
   "cell_type": "markdown",
   "metadata": {},
   "source": [
    "Not covered here today, but you can access the nglview [github](https://github.com/nglviewer/nglview) and follow the instructions there.\n",
    "\n",
    "Again, it should be as simple as running one of the two commands below:\n",
    "\n",
    "***pip install nglview***\n",
    "\n",
    " \n",
    "\n",
    "***conda install nglview -c conda-forge***"
   ]
  },
  {
   "cell_type": "code",
   "execution_count": null,
   "metadata": {},
   "outputs": [],
   "source": [
    "import nglview # Importing library"
   ]
  },
  {
   "cell_type": "code",
   "execution_count": null,
   "metadata": {},
   "outputs": [],
   "source": [
    "print(pdb_file)"
   ]
  },
  {
   "cell_type": "code",
   "execution_count": null,
   "metadata": {},
   "outputs": [],
   "source": [
    "viewer = nglview.show_file(pdb_file)\n",
    "viewer"
   ]
  },
  {
   "cell_type": "code",
   "execution_count": null,
   "metadata": {},
   "outputs": [],
   "source": [
    "viewer.color_by('sstruc') # colour by type of secondary structure (alpha helices, beta sheets and loops)"
   ]
  },
  {
   "cell_type": "code",
   "execution_count": null,
   "metadata": {},
   "outputs": [],
   "source": [
    "viewer.color_by('element') # colour by atom element"
   ]
  },
  {
   "cell_type": "code",
   "execution_count": null,
   "metadata": {},
   "outputs": [],
   "source": [
    "viewer.remove_cartoon()\n",
    "viewer.add_ball_and_stick()"
   ]
  },
  {
   "cell_type": "code",
   "execution_count": null,
   "metadata": {},
   "outputs": [],
   "source": [
    "viewer.clear()"
   ]
  },
  {
   "cell_type": "code",
   "execution_count": null,
   "metadata": {},
   "outputs": [],
   "source": [
    "viewer.add_ball_and_stick(selection='protein')"
   ]
  },
  {
   "cell_type": "code",
   "execution_count": null,
   "metadata": {},
   "outputs": [],
   "source": [
    "viewer.clear()"
   ]
  },
  {
   "cell_type": "code",
   "execution_count": null,
   "metadata": {},
   "outputs": [],
   "source": [
    "viewer.add_cartoon(selection='protein')"
   ]
  },
  {
   "cell_type": "markdown",
   "metadata": {},
   "source": [
    "Colouring options\n",
    "- bfactor\n",
    "- chainid\n",
    "- element\n",
    "- sstruc\n",
    "- hydrophobicity\n",
    "- electrostatic\n",
    "...\n",
    "\n",
    "[Complete guide](http://nglviewer.org/ngl/api/manual/coloring.html)"
   ]
  },
  {
   "cell_type": "markdown",
   "metadata": {},
   "source": [
    "### Selecting interface residues"
   ]
  },
  {
   "cell_type": "markdown",
   "metadata": {},
   "source": [
    "#### Here we are adding all selected residues except for water molecules"
   ]
  },
  {
   "cell_type": "code",
   "execution_count": null,
   "metadata": {},
   "outputs": [],
   "source": [
    "interface_selection_chain1 = []\n",
    "interface_selection_chain2 = []\n",
    "\n",
    "for res in residues_interface_chain1: # for each interface residue on chain 1\n",
    "    if res.id[0] != 'W': # select only if it is not a water molecule\n",
    "        interface_selection_chain1.append(\"{}:{}\".format(res.id[1],res.parent.id))\n",
    "        \n",
    "for res in residues_interface_chain2: # for each interface residue on chain 2\n",
    "    if res.id[0] != 'W': # select only if it is not a water molecule\n",
    "        interface_selection_chain2.append(\"{}:{}\".format(res.id[1],res.parent.id))"
   ]
  },
  {
   "cell_type": "code",
   "execution_count": null,
   "metadata": {},
   "outputs": [],
   "source": [
    "print(interface_selection_chain1)\n",
    "print(interface_selection_chain2)"
   ]
  },
  {
   "cell_type": "code",
   "execution_count": null,
   "metadata": {},
   "outputs": [],
   "source": [
    "interface_selection_chain1 = \" or \".join(interface_selection_chain1)\n",
    "interface_selection_chain2 = \" or \".join(interface_selection_chain2)\n",
    "print(chain1)\n",
    "print(interface_selection_chain1)\n",
    "print(chain2)\n",
    "print(interface_selection_chain2)"
   ]
  },
  {
   "cell_type": "code",
   "execution_count": null,
   "metadata": {},
   "outputs": [],
   "source": [
    "viewer.add_representation('ball+stick', selection=interface_selection_chain1, color=\"magenta\")\n",
    "viewer.add_representation('ball+stick', selection=interface_selection_chain2, color=\"#76ff03\")"
   ]
  },
  {
   "cell_type": "markdown",
   "metadata": {},
   "source": [
    "List of representations available for nglviewer\n",
    "- ball+stick\n",
    "- cartoon\n",
    "- line\n",
    "- spacefill\n",
    "- surface"
   ]
  },
  {
   "cell_type": "markdown",
   "metadata": {},
   "source": [
    "Remove representations"
   ]
  },
  {
   "cell_type": "code",
   "execution_count": null,
   "metadata": {},
   "outputs": [],
   "source": [
    "viewer.remove_spacefill() # specific to spacefill\n",
    "viewer.remove_ball_and_stick() # specific to ball+stick\n",
    "\n",
    "viewer.clear_representations() # generic"
   ]
  },
  {
   "cell_type": "markdown",
   "metadata": {},
   "source": [
    "Return to previous representations"
   ]
  },
  {
   "cell_type": "code",
   "execution_count": null,
   "metadata": {},
   "outputs": [],
   "source": [
    "viewer.add_cartoon(selection='protein')"
   ]
  },
  {
   "cell_type": "code",
   "execution_count": null,
   "metadata": {},
   "outputs": [],
   "source": [
    "viewer.add_representation('ball+stick', selection=interface_selection_chain1, color=\"magenta\")\n",
    "viewer.add_representation('ball+stick', selection=interface_selection_chain2, color=\"#76ff03\")"
   ]
  },
  {
   "cell_type": "code",
   "execution_count": null,
   "metadata": {},
   "outputs": [],
   "source": [
    "viewer.add_surface(selection=\"protein\", opacity=0.3)"
   ]
  },
  {
   "cell_type": "code",
   "execution_count": null,
   "metadata": {},
   "outputs": [],
   "source": [
    "viewer.remove_surface()"
   ]
  },
  {
   "cell_type": "code",
   "execution_count": null,
   "metadata": {},
   "outputs": [],
   "source": [
    "viewer.add_surface(selection=\"protein\", opacity=1)"
   ]
  },
  {
   "cell_type": "code",
   "execution_count": null,
   "metadata": {},
   "outputs": [],
   "source": [
    "viewer.remove_surface()"
   ]
  },
  {
   "cell_type": "markdown",
   "metadata": {},
   "source": [
    "For more information and examples visit the [github](https://github.com/nglviewer/nglview) or the [documentation](http://nglviewer.org/nglview/latest/api.html)."
   ]
  }
 ],
 "metadata": {
  "kernelspec": {
   "display_name": "Python 3",
   "language": "python",
   "name": "python3"
  },
  "language_info": {
   "codemirror_mode": {
    "name": "ipython",
    "version": 3
   },
   "file_extension": ".py",
   "mimetype": "text/x-python",
   "name": "python",
   "nbconvert_exporter": "python",
   "pygments_lexer": "ipython3",
   "version": "3.6.9"
  }
 },
 "nbformat": 4,
 "nbformat_minor": 4
}
